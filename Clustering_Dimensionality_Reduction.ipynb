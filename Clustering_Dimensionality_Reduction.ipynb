{
 "cells": [
  {
   "cell_type": "code",
   "execution_count": 1,
   "id": "b2a21e2a",
   "metadata": {},
   "outputs": [
    {
     "name": "stdout",
     "output_type": "stream",
     "text": [
      "Requirement already satisfied: pandas in c:\\users\\mausami karogal\\appdata\\local\\programs\\python\\python310\\lib\\site-packages (1.3.4)\n",
      "Requirement already satisfied: scikit-learn in c:\\users\\mausami karogal\\appdata\\local\\programs\\python\\python310\\lib\\site-packages (1.0.1)\n",
      "Requirement already satisfied: matplotlib in c:\\users\\mausami karogal\\appdata\\local\\programs\\python\\python310\\lib\\site-packages (3.4.3)\n",
      "Requirement already satisfied: pytz>=2017.3 in c:\\users\\mausami karogal\\appdata\\local\\programs\\python\\python310\\lib\\site-packages (from pandas) (2025.1)\n",
      "Requirement already satisfied: numpy>=1.21.0 in c:\\users\\mausami karogal\\appdata\\local\\programs\\python\\python310\\lib\\site-packages (from pandas) (1.21.2)\n",
      "Requirement already satisfied: python-dateutil>=2.7.3 in c:\\users\\mausami karogal\\appdata\\local\\programs\\python\\python310\\lib\\site-packages (from pandas) (2.8.2)\n",
      "Requirement already satisfied: scipy>=1.1.0 in c:\\users\\mausami karogal\\appdata\\local\\programs\\python\\python310\\lib\\site-packages (from scikit-learn) (1.7.2)\n",
      "Requirement already satisfied: threadpoolctl>=2.0.0 in c:\\users\\mausami karogal\\appdata\\local\\programs\\python\\python310\\lib\\site-packages (from scikit-learn) (3.0.0)\n",
      "Requirement already satisfied: joblib>=0.11 in c:\\users\\mausami karogal\\appdata\\local\\programs\\python\\python310\\lib\\site-packages (from scikit-learn) (1.1.0)\n",
      "Requirement already satisfied: cycler>=0.10 in c:\\users\\mausami karogal\\appdata\\local\\programs\\python\\python310\\lib\\site-packages (from matplotlib) (0.10.0)\n",
      "Requirement already satisfied: kiwisolver>=1.0.1 in c:\\users\\mausami karogal\\appdata\\local\\programs\\python\\python310\\lib\\site-packages (from matplotlib) (1.3.2)\n",
      "Requirement already satisfied: pillow>=6.2.0 in c:\\users\\mausami karogal\\appdata\\local\\programs\\python\\python310\\lib\\site-packages (from matplotlib) (8.3.2)\n",
      "Requirement already satisfied: pyparsing>=2.2.1 in c:\\users\\mausami karogal\\appdata\\local\\programs\\python\\python310\\lib\\site-packages (from matplotlib) (2.4.7)\n",
      "Requirement already satisfied: six in c:\\users\\mausami karogal\\appdata\\local\\programs\\python\\python310\\lib\\site-packages (from cycler>=0.10->matplotlib) (1.16.0)\n",
      "Note: you may need to restart the kernel to use updated packages.\n"
     ]
    },
    {
     "name": "stderr",
     "output_type": "stream",
     "text": [
      "\n",
      "[notice] A new release of pip available: 22.2.2 -> 25.2\n",
      "[notice] To update, run: python.exe -m pip install --upgrade pip\n"
     ]
    }
   ],
   "source": [
    "pip install pandas scikit-learn matplotlib"
   ]
  },
  {
   "cell_type": "code",
   "execution_count": 2,
   "id": "967efaa5",
   "metadata": {},
   "outputs": [],
   "source": [
    "import pandas as pd\n",
    "import matplotlib.pyplot as plt\n",
    "from sklearn.cluster import KMeans\n",
    "from sklearn.decomposition import PCA\n",
    "from sklearn.preprocessing import StandardScaler\n",
    "from sklearn.manifold import TSNE"
   ]
  },
  {
   "cell_type": "code",
   "execution_count": 3,
   "id": "1b0eb940",
   "metadata": {},
   "outputs": [
    {
     "name": "stdout",
     "output_type": "stream",
     "text": [
      "   AnnualIncome  SpendingScore  Age\n",
      "0            15             39   20\n",
      "1            16             81   22\n",
      "2            17              6   25\n",
      "3            18             77   24\n",
      "4            19             40   35\n"
     ]
    }
   ],
   "source": [
    "# Create a sample dataset with customer annual income, spending score, and age\n",
    "data = {'AnnualIncome': [15, 16, 17, 18, 19, 20, 22, 25, 30, 35],\n",
    "        'SpendingScore': [39, 81, 6, 77, 40, 76, 94, 5, 82, 56],\n",
    "        'Age': [20, 22, 25, 24, 35, 40, 30, 21, 50, 31]}\n",
    "\n",
    "df = pd.DataFrame(data)\n",
    "\n",
    "# Display the first few rows of the dataset\n",
    "print(df.head())"
   ]
  },
  {
   "cell_type": "code",
   "execution_count": 4,
   "id": "f6666482",
   "metadata": {},
   "outputs": [
    {
     "name": "stdout",
     "output_type": "stream",
     "text": [
      "   AnnualIncome  SpendingScore       Age\n",
      "0     -1.086741      -0.546384 -1.074654\n",
      "1     -0.924540       0.836033 -0.855337\n",
      "2     -0.762340      -1.632569 -0.526361\n",
      "3     -0.600140       0.704374 -0.636020\n",
      "4     -0.437940      -0.513469  0.570225\n"
     ]
    }
   ],
   "source": [
    "from sklearn.preprocessing import StandardScaler\n",
    "\n",
    "# Normalize the dataset\n",
    "scaler = StandardScaler()\n",
    "df_scaled = scaler.fit_transform(df)\n",
    "\n",
    "# Convert the scaled data back into a DataFrame\n",
    "df_scaled = pd.DataFrame(df_scaled, columns=['AnnualIncome', 'SpendingScore', 'Age'])\n",
    "print(df_scaled.head())"
   ]
  },
  {
   "cell_type": "code",
   "execution_count": 6,
   "id": "8fc0ef4e",
   "metadata": {},
   "outputs": [
    {
     "name": "stdout",
     "output_type": "stream",
     "text": [
      "   AnnualIncome  SpendingScore       Age  KMeans_Cluster\n",
      "0     -1.086741      -0.546384 -1.074654               0\n",
      "1     -0.924540       0.836033 -0.855337               1\n",
      "2     -0.762340      -1.632569 -0.526361               0\n",
      "3     -0.600140       0.704374 -0.636020               1\n",
      "4     -0.437940      -0.513469  0.570225               1\n"
     ]
    }
   ],
   "source": [
    "## k-means clustering \n",
    "k= 3 \n",
    "# Apply K-Means with k=3\n",
    "kmeans = KMeans(n_clusters=3, random_state=42)\n",
    "df_scaled['KMeans_Cluster'] = kmeans.fit_predict(df_scaled)\n",
    "\n",
    "# Display the cluster assignments\n",
    "print(df_scaled.head())\n"
   ]
  },
  {
   "cell_type": "code",
   "execution_count": 7,
   "id": "bd29bd51",
   "metadata": {},
   "outputs": [
    {
     "data": {
      "image/png": "[encoded data removed]",
      "text/plain": [
       "<Figure size 432x288 with 1 Axes>"
      ]
     },
     "metadata": {
      "needs_background": "light"
     },
     "output_type": "display_data"
    }
   ],
   "source": [
    "# Visualize the K-Means clusters\n",
    "plt.scatter(df_scaled['AnnualIncome'], df_scaled['SpendingScore'], c=df_scaled['KMeans_Cluster'], cmap='viridis')\n",
    "plt.title('K-Means Clustering of Customers')\n",
    "plt.xlabel('Annual Income (in thousands)')\n",
    "plt.ylabel('Spending Score (1-100)')\n",
    "plt.show()"
   ]
  },
  {
   "cell_type": "code",
   "execution_count": 8,
   "id": "26bdc083",
   "metadata": {},
   "outputs": [
    {
     "name": "stdout",
     "output_type": "stream",
     "text": [
      "       PCA1      PCA2\n",
      "0 -1.821748 -0.340532\n",
      "1 -0.527497 -1.277689\n",
      "2 -1.838730  0.708326\n",
      "3 -0.299792 -0.954219\n",
      "4 -0.071190  0.113538\n"
     ]
    }
   ],
   "source": [
    "# Apply PCA to reduce dimensions to 2\n",
    "pca = PCA(n_components=2)\n",
    "df_pca = pca.fit_transform(df_scaled)\n",
    "\n",
    "# Convert the PCA result back to a DataFrame\n",
    "df_pca = pd.DataFrame(df_pca, columns=['PCA1', 'PCA2'])\n",
    "print(df_pca.head())"
   ]
  },
  {
   "cell_type": "code",
   "execution_count": 10,
   "id": "34477747",
   "metadata": {},
   "outputs": [
    {
     "data": {
      "image/png": "[encoded data removed]",
      "text/plain": [
       "<Figure size 432x288 with 1 Axes>"
      ]
     },
     "metadata": {
      "needs_background": "light"
     },
     "output_type": "display_data"
    }
   ],
   "source": [
    "# Visualize the PCA components\n",
    "plt.scatter(df_pca['PCA1'], df_pca['PCA2'], c=df_scaled['KMeans_Cluster'], cmap='viridis')\n",
    "plt.title('PCA - Dimensionality Reduction with K-Means Clusters')\n",
    "plt.xlabel('PCA1')\n",
    "plt.ylabel('PCA2')\n",
    "plt.show()"
   ]
  },
  {
   "cell_type": "code",
   "execution_count": 9,
   "id": "56bfed13",
   "metadata": {},
   "outputs": [
    {
     "name": "stdout",
     "output_type": "stream",
     "text": [
      "      t-SNE1      t-SNE2\n",
      "0  39.407581  -79.321419\n",
      "1  96.371956  -18.225212\n",
      "2   1.802084 -105.308868\n",
      "3  55.371342   -9.058578\n",
      "4  -7.986149    8.997602\n"
     ]
    },
    {
     "name": "stderr",
     "output_type": "stream",
     "text": [
      "C:\\Users\\Mausami Karogal\\AppData\\Local\\Programs\\Python\\Python310\\lib\\site-packages\\sklearn\\manifold\\_t_sne.py:780: FutureWarning: The default initialization in TSNE will change from 'random' to 'pca' in 1.2.\n",
      "  warnings.warn(\n",
      "C:\\Users\\Mausami Karogal\\AppData\\Local\\Programs\\Python\\Python310\\lib\\site-packages\\sklearn\\manifold\\_t_sne.py:790: FutureWarning: The default learning rate in TSNE will change from 200.0 to 'auto' in 1.2.\n",
      "  warnings.warn(\n"
     ]
    }
   ],
   "source": [
    "from sklearn.manifold import TSNE\n",
    "\n",
    "# Set perplexity to a value smaller than the number of samples\n",
    "tsne = TSNE(n_components=2, perplexity=5, random_state=42)\n",
    "\n",
    "df_tsne = tsne.fit_transform(df_scaled)\n",
    "\n",
    "# Convert the t-SNE result back to a DataFrame\n",
    "df_tsne = pd.DataFrame(df_tsne, columns=['t-SNE1', 't-SNE2'])\n",
    "print(df_tsne.head())"
   ]
  },
  {
   "cell_type": "code",
   "execution_count": 11,
   "id": "6535e394",
   "metadata": {},
   "outputs": [
    {
     "data": {
      "image/png": "[encoded data removed]",
      "text/plain": [
       "<Figure size 432x288 with 1 Axes>"
      ]
     },
     "metadata": {
      "needs_background": "light"
     },
     "output_type": "display_data"
    }
   ],
   "source": [
    "# Visualize the t-SNE components\n",
    "plt.scatter(df_tsne['t-SNE1'], df_tsne['t-SNE2'], c=df_scaled['KMeans_Cluster'], cmap='viridis')\n",
    "plt.title('t-SNE - Dimensionality Reduction with K-Means Clusters')\n",
    "plt.xlabel('t-SNE1')\n",
    "plt.ylabel('t-SNE2')\n",
    "plt.show()"
   ]
  },
  {
   "cell_type": "code",
   "execution_count": null,
   "id": "92dd0d9c",
   "metadata": {},
   "outputs": [],
   "source": []
  }
 ],
 "metadata": {
  "kernelspec": {
   "display_name": "Python 3 (ipykernel)",
   "language": "python",
   "name": "python3"
  },
  "language_info": {
   "codemirror_mode": {
    "name": "ipython",
    "version": 3
   },
   "file_extension": ".py",
   "mimetype": "text/x-python",
   "name": "python",
   "nbconvert_exporter": "python",
   "pygments_lexer": "ipython3",
   "version": "3.10.0"
  }
 },
 "nbformat": 4,
 "nbformat_minor": 5
}
